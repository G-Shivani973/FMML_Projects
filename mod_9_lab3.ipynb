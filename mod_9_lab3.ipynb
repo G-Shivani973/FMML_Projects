{
  "nbformat": 4,
  "nbformat_minor": 0,
  "metadata": {
    "colab": {
      "provenance": [],
      "authorship_tag": "ABX9TyPZEH4MdPv/vczvPLTdD4o0",
      "include_colab_link": true
    },
    "kernelspec": {
      "name": "python3",
      "display_name": "Python 3"
    },
    "language_info": {
      "name": "python"
    }
  },
  "cells": [
    {
      "cell_type": "markdown",
      "metadata": {
        "id": "view-in-github",
        "colab_type": "text"
      },
      "source": [
        "<a href=\"https://colab.research.google.com/github/G-Shivani973/FMML_Projects/blob/main/mod_9_lab3.ipynb\" target=\"_parent\"><img src=\"https://colab.research.google.com/assets/colab-badge.svg\" alt=\"Open In Colab\"/></a>"
      ]
    },
    {
      "cell_type": "markdown",
      "source": [
        "<b>1) List some reasons why we should prefer CNN over ANN for image classification?</b><br>\n",
        "Answers:\n",
        "Feature Detection: CNNs excel at automatically extracting relevant features from images, such as edges, textures, and shapes, through convolutional layers.\n",
        "Parameter Sharing: CNNs utilize parameter sharing, making them more memory and computationally efficient compared to ANNs for processing large images.\n",
        "Spatial Hierarchies: CNNs preserve the spatial structure of the input data, capturing spatial hierarchies of features crucial for tasks like object recognition.\n",
        "Translation Invariance: CNNs inherently possess translation invariance, enabling them to recognize patterns irrespective of their location in the image."
      ],
      "metadata": {
        "id": "UIPJt_o5hMWs"
      }
    },
    {
      "cell_type": "markdown",
      "source": [
        "<b>2) Try improving the CNN performance further by tuning the hyperparameters(epochs, optimizer, LR etc). Report the improved test accuracy."
      ],
      "metadata": {
        "id": "6loVu9mUhY0i"
      }
    },
    {
      "cell_type": "code",
      "source": [
        "# Importing necessary libraries\n",
        "import torch\n",
        "import torchvision\n",
        "import torchvision.transforms as transforms\n",
        "import torch.nn as nn\n",
        "import torch.optim as optim\n",
        "import matplotlib.pyplot as plt\n",
        "import numpy as np\n",
        "\n",
        "# CIFAR-10 dataset preprocessing and loading\n",
        "transform = transforms.Compose([\n",
        "    transforms.ToTensor(),\n",
        "    transforms.Normalize((0.5, 0.5, 0.5), (0.5, 0.5, 0.5))\n",
        "])\n",
        "\n",
        "batch_size = 128\n",
        "\n",
        "trainset = torchvision.datasets.CIFAR10(root='./data', train=True, download=True, transform=transform)\n",
        "trainloader = torch.utils.data.DataLoader(trainset, batch_size=batch_size, shuffle=True, num_workers=2)\n",
        "\n",
        "testset = torchvision.datasets.CIFAR10(root='./data', train=False, download=True, transform=transform)\n",
        "testloader = torch.utils.data.DataLoader(testset, batch_size=batch_size, shuffle=False, num_workers=2)\n",
        "\n",
        "classes = ('plane', 'car', 'bird', 'cat', 'deer', 'dog', 'frog', 'horse', 'ship', 'truck')\n",
        "\n",
        "# Define the CNN architecture\n",
        "class Net(nn.Module):\n",
        "    def __init__(self):\n",
        "        super(Net, self).__init__()\n",
        "        self.conv1 = nn.Conv2d(3, 32, 3, padding=1)\n",
        "        self.pool = nn.MaxPool2d(2, 2)\n",
        "        self.conv2 = nn.Conv2d(32, 64, 3, padding=1)\n",
        "        self.fc1 = nn.Linear(64 * 8 * 8, 512)\n",
        "        self.fc2 = nn.Linear(512, 10)\n",
        "\n",
        "    def forward(self, x):\n",
        "        x = self.pool(nn.functional.relu(self.conv1(x)))  # corrected 'F' to 'nn.functional'\n",
        "        x = self.pool(nn.functional.relu(self.conv2(x)))  # corrected 'F' to 'nn.functional'\n",
        "        x = x.view(-1, 64 * 8 * 8)\n",
        "        x = nn.functional.relu(self.fc1(x))  # corrected 'F' to 'nn.functional'\n",
        "        x = self.fc2(x)\n",
        "        return x\n",
        "\n",
        "# Define a function to train the model\n",
        "def train(num_epochs, model, train_loader, criterion, optimizer):\n",
        "    model.train()\n",
        "    train_losses = []\n",
        "    train_acc = []\n",
        "    for epoch in range(num_epochs):\n",
        "        running_loss = 0.0\n",
        "        correct = 0\n",
        "        total = 0\n",
        "        for i, data in enumerate(train_loader, 0):\n",
        "            inputs, labels = data\n",
        "            optimizer.zero_grad()\n",
        "            outputs = model(inputs)\n",
        "            loss = criterion(outputs, labels)\n",
        "            loss.backward()\n",
        "            optimizer.step()\n",
        "\n",
        "            running_loss += loss.item()\n",
        "            _, predicted = torch.max(outputs.data, 1)\n",
        "            total += labels.size(0)\n",
        "            correct += (predicted == labels).sum().item()\n",
        "\n",
        "        epoch_loss = running_loss / len(train_loader)\n",
        "        epoch_acc = correct / total\n",
        "        train_losses.append(epoch_loss)\n",
        "        train_acc.append(epoch_acc)\n",
        "        print('Epoch [%d/%d], Loss: %.4f, Accuracy: %.2f%%' %\n",
        "              (epoch + 1, num_epochs, epoch_loss, epoch_acc * 100))\n",
        "\n",
        "    print('Finished Training')\n",
        "    return train_losses, train_acc\n",
        "\n",
        "# Define a function to test the model\n",
        "def test(model, test_loader):\n",
        "    model.eval()\n",
        "    correct = 0\n",
        "    total = 0\n",
        "    with torch.no_grad():\n",
        "        for data in test_loader:\n",
        "            images, labels = data\n",
        "            outputs = model(images)\n",
        "            _, predicted = torch.max(outputs.data, 1)\n",
        "            total += labels.size(0)\n",
        "            correct += (predicted == labels).sum().item()\n",
        "\n",
        "    print('Accuracy of the network on the 10000 test images: %.2f %%' % (100 * correct / total))\n",
        "\n",
        "# Initialize the model, loss function, and optimizer\n",
        "model = Net()\n",
        "criterion = nn.CrossEntropyLoss()\n",
        "optimizer = optim.SGD(model.parameters(), lr=0.001, momentum=0.9)\n",
        "\n",
        "# Train the model\n",
        "num_epochs = 10\n",
        "train_losses, train_acc = train(num_epochs, model, trainloader, criterion, optimizer)\n",
        "\n",
        "# Plot training losses and accuracy\n",
        "plt.plot(train_losses, label='Training Loss')\n",
        "plt.xlabel('Epochs')\n",
        "plt.ylabel('Loss')\n",
        "plt.title('Training Loss')\n",
        "plt.legend()\n",
        "plt.show()\n",
        "\n",
        "# Test the model on test data\n",
        "test(model, testloader)\n"
      ],
      "metadata": {
        "colab": {
          "base_uri": "https://localhost:8080/",
          "height": 715
        },
        "id": "W1QkWuswhalL",
        "outputId": "c7ad9c4d-cee0-4a68-c407-17db026c323a"
      },
      "execution_count": null,
      "outputs": [
        {
          "output_type": "stream",
          "name": "stdout",
          "text": [
            "Files already downloaded and verified\n",
            "Files already downloaded and verified\n",
            "Epoch [1/10], Loss: 2.1636, Accuracy: 22.53%\n",
            "Epoch [2/10], Loss: 1.8871, Accuracy: 34.10%\n",
            "Epoch [3/10], Loss: 1.7210, Accuracy: 39.23%\n",
            "Epoch [4/10], Loss: 1.5969, Accuracy: 43.72%\n",
            "Epoch [5/10], Loss: 1.4926, Accuracy: 47.06%\n",
            "Epoch [6/10], Loss: 1.4129, Accuracy: 49.93%\n",
            "Epoch [7/10], Loss: 1.3484, Accuracy: 52.29%\n",
            "Epoch [8/10], Loss: 1.2905, Accuracy: 54.12%\n",
            "Epoch [9/10], Loss: 1.2524, Accuracy: 55.78%\n",
            "Epoch [10/10], Loss: 1.2068, Accuracy: 57.47%\n",
            "Finished Training\n"
          ]
        },
        {
          "output_type": "display_data",
          "data": {
            "text/plain": [
              "<Figure size 640x480 with 1 Axes>"
            ],
            "image/png": "[encoded data removed]"
          },
          "metadata": {}
        },
        {
          "output_type": "stream",
          "name": "stdout",
          "text": [
            "Accuracy of the network on the 10000 test images: 56.88 %\n"
          ]
        }
      ]
    },
    {
      "cell_type": "markdown",
      "source": [
        "<b>3) What happens if you reduce the number of convolution layers to only 1?"
      ],
      "metadata": {
        "id": "uVWN7z6ZhcoL"
      }
    },
    {
      "cell_type": "code",
      "source": [
        "import torch\n",
        "import torchvision\n",
        "import torchvision.transforms as transforms\n",
        "import torch.nn as nn\n",
        "import torch.optim as optim\n",
        "import matplotlib.pyplot as plt\n",
        "import numpy as np\n",
        "\n",
        "# CIFAR-10 dataset preprocessing and loading\n",
        "transform = transforms.Compose([\n",
        "    transforms.ToTensor(),\n",
        "    transforms.Normalize((0.5, 0.5, 0.5), (0.5, 0.5, 0.5))\n",
        "])\n",
        "\n",
        "batch_size = 128\n",
        "\n",
        "trainset = torchvision.datasets.CIFAR10(root='./data', train=True, download=True, transform=transform)\n",
        "trainloader = torch.utils.data.DataLoader(trainset, batch_size=batch_size, shuffle=True, num_workers=2)\n",
        "\n",
        "testset = torchvision.datasets.CIFAR10(root='./data', train=False, download=True, transform=transform)\n",
        "testloader = torch.utils.data.DataLoader(testset, batch_size=batch_size, shuffle=False, num_workers=2)\n",
        "\n",
        "classes = ('plane', 'car', 'bird', 'cat', 'deer', 'dog', 'frog', 'horse', 'ship', 'truck')\n",
        "\n",
        "# Define the CNN architecture with only one convolutional layer\n",
        "class Net(nn.Module):\n",
        "    def __init__(self):\n",
        "        super(Net, self).__init__()\n",
        "        self.conv1 = nn.Conv2d(3, 16, 3, padding=1)  # Reduced to one convolutional layer\n",
        "        self.pool = nn.MaxPool2d(2, 2)\n",
        "        self.fc1 = nn.Linear(16 * 16 * 16, 120)  # Adjusted input size for fully connected layer\n",
        "        self.fc2 = nn.Linear(120, 84)\n",
        "        self.fc3 = nn.Linear(84, 10)\n",
        "\n",
        "    def forward(self, x):\n",
        "        x = self.pool(nn.functional.relu(self.conv1(x)))\n",
        "        x = x.view(-1, 16 * 16 * 16)\n",
        "        x = nn.functional.relu(self.fc1(x))\n",
        "        x = nn.functional.relu(self.fc2(x))\n",
        "        x = self.fc3(x)\n",
        "        return x\n",
        "\n",
        "# Define a function to train the model\n",
        "def train(num_epochs, model, train_loader, criterion, optimizer):\n",
        "    model.train()\n",
        "    train_losses = []\n",
        "    train_acc = []\n",
        "    for epoch in range(num_epochs):\n",
        "        running_loss = 0.0\n",
        "        correct = 0\n",
        "        total = 0\n",
        "        for i, data in enumerate(train_loader, 0):\n",
        "            inputs, labels = data\n",
        "            optimizer.zero_grad()\n",
        "            outputs = model(inputs)\n",
        "            loss = criterion(outputs, labels)\n",
        "            loss.backward()\n",
        "            optimizer.step()\n",
        "\n",
        "            running_loss += loss.item()\n",
        "            _, predicted = torch.max(outputs.data, 1)\n",
        "            total += labels.size(0)\n",
        "            correct += (predicted == labels).sum().item()\n",
        "\n",
        "        epoch_loss = running_loss / len(train_loader)\n",
        "        epoch_acc = correct / total\n",
        "        train_losses.append(epoch_loss)\n",
        "        train_acc.append(epoch_acc)\n",
        "        print('Epoch [%d/%d], Loss: %.4f, Accuracy: %.2f%%' %\n",
        "              (epoch + 1, num_epochs, epoch_loss, epoch_acc * 100))\n",
        "\n",
        "    print('Finished Training')\n",
        "    return train_losses, train_acc\n",
        "\n",
        "# Define a function to test the model\n",
        "def test(model, test_loader):\n",
        "    model.eval()\n",
        "    correct = 0\n",
        "    total = 0\n",
        "    with torch.no_grad():\n",
        "        for data in test_loader:\n",
        "            images, labels = data\n",
        "            outputs = model(images)\n",
        "            _, predicted = torch.max(outputs.data, 1)\n",
        "            total += labels.size(0)\n",
        "            correct += (predicted == labels).sum().item()\n",
        "\n",
        "    print('Accuracy of the network on the 10000 test images: %.2f %%' % (100 * correct / total))\n",
        "\n",
        "# Initialize the model, loss function, and optimizer\n",
        "model = Net()\n",
        "criterion = nn.CrossEntropyLoss()\n",
        "optimizer = optim.SGD(model.parameters(), lr=0.001, momentum=0.9)\n",
        "\n",
        "# Train the model\n",
        "num_epochs = 10\n",
        "train_losses, train_acc = train(num_epochs, model, trainloader, criterion, optimizer)\n",
        "\n",
        "# Plot training losses and accuracy\n",
        "plt.plot(train_losses, label='Training Loss')\n",
        "plt.xlabel('Epochs')\n",
        "plt.ylabel('Loss')\n",
        "plt.title('Training Loss')\n",
        "plt.legend()\n",
        "plt.show()\n",
        "\n",
        "# Test the model on test data\n",
        "test(model, testloader)\n"
      ],
      "metadata": {
        "colab": {
          "base_uri": "https://localhost:8080/",
          "height": 715
        },
        "id": "vrP0ZRA6hfKy",
        "outputId": "d3f164bb-9b91-4a18-e2d4-36efec3459b5"
      },
      "execution_count": null,
      "outputs": [
        {
          "output_type": "stream",
          "name": "stdout",
          "text": [
            "Files already downloaded and verified\n",
            "Files already downloaded and verified\n",
            "Epoch [1/10], Loss: 2.2538, Accuracy: 16.71%\n",
            "Epoch [2/10], Loss: 1.9859, Accuracy: 29.88%\n",
            "Epoch [3/10], Loss: 1.8005, Accuracy: 36.20%\n",
            "Epoch [4/10], Loss: 1.6837, Accuracy: 40.37%\n",
            "Epoch [5/10], Loss: 1.5724, Accuracy: 43.88%\n",
            "Epoch [6/10], Loss: 1.4826, Accuracy: 47.01%\n",
            "Epoch [7/10], Loss: 1.4164, Accuracy: 49.23%\n",
            "Epoch [8/10], Loss: 1.3579, Accuracy: 51.41%\n",
            "Epoch [9/10], Loss: 1.3146, Accuracy: 53.03%\n",
            "Epoch [10/10], Loss: 1.2752, Accuracy: 54.30%\n",
            "Finished Training\n"
          ]
        },
        {
          "output_type": "display_data",
          "data": {
            "text/plain": [
              "<Figure size 640x480 with 1 Axes>"
            ],
            "image/png": "[encoded data removed]"
          },
          "metadata": {}
        },
        {
          "output_type": "stream",
          "name": "stdout",
          "text": [
            "Accuracy of the network on the 10000 test images: 53.92 %\n"
          ]
        }
      ]
    },
    {
      "cell_type": "markdown",
      "source": [
        "<b>4) Why didn't we use the Softmax activation in the last layer of CNN?\n",
        "</b><br>\n",
        "Answer:\n",
        "In the provided CNN architecture, the Cross Entropy Loss function is used as the criterion for optimization. This loss function internally applies the softmax operation to the logits (raw outputs) of the model and computes the loss based on the predicted probabilities. Therefore, adding a softmax layer after the last fully connected layer is redundant in this case. The model directly outputs raw logits, and the loss function takes care of the conversion to probabilities and computation of the loss during training."
      ],
      "metadata": {
        "id": "o06CL8kLhhZk"
      }
    },
    {
      "cell_type": "markdown",
      "source": [
        "<b>"
      ],
      "metadata": {
        "id": "kK6osoEfhVL6"
      }
    }
  ]
}